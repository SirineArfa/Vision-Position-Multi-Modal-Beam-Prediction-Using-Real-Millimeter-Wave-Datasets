{
  "nbformat": 4,
  "nbformat_minor": 0,
  "metadata": {
    "colab": {
      "provenance": []
    },
    "kernelspec": {
      "name": "python3",
      "display_name": "Python 3"
    },
    "language_info": {
      "name": "python"
    },
    "accelerator": "GPU",
    "gpuClass": "standard"
  },
  "cells": [
    {
      "cell_type": "code",
      "source": [
        "from google.colab import drive\n",
        "drive.mount('/content/drive')"
      ],
      "metadata": {
        "colab": {
          "base_uri": "https://localhost:8080/"
        },
        "id": "uUYfbdWpCwDt",
        "outputId": "cfd2f430-03fa-49c2-9a7f-7758de036386"
      },
      "execution_count": null,
      "outputs": [
        {
          "output_type": "stream",
          "name": "stdout",
          "text": [
            "Mounted at /content/drive\n"
          ]
        }
      ]
    },
    {
      "cell_type": "markdown",
      "source": [
        "**Loading the libraries**"
      ],
      "metadata": {
        "id": "EfUZDYK0IeEF"
      }
    },
    {
      "cell_type": "code",
      "source": [
        "import pandas as pd\n",
        "\n",
        "import matplotlib.pyplot as plt\n",
        "\n",
        "from sklearn.model_selection import train_test_split\n",
        "from sklearn.preprocessing import StandardScaler\n",
        "\n",
        "\n",
        "from sklearn.neural_network import MLPClassifier\n",
        "\n",
        "from sklearn.metrics import accuracy_score\n",
        "from sklearn.metrics import balanced_accuracy_score\n",
        "from sklearn.metrics import jaccard_score\n",
        "\n",
        "\n",
        "from sklearn.metrics import plot_confusion_matrix\n",
        "from sklearn.metrics import classification_report\n",
        "\n",
        "from sklearn.model_selection import GridSearchCV"
      ],
      "metadata": {
        "id": "azD0W4sCCwxD"
      },
      "execution_count": null,
      "outputs": []
    },
    {
      "cell_type": "markdown",
      "source": [
        "**MLPClassifier for Multi-Class Classification**"
      ],
      "metadata": {
        "id": "4FrOWwdLIgY9"
      }
    },
    {
      "cell_type": "markdown",
      "source": [
        "**1.  Loading the data**"
      ],
      "metadata": {
        "id": "FSr6kVXcIntF"
      }
    },
    {
      "cell_type": "code",
      "source": [
        "position_visual_data = pd.read_csv(\"/content/Final_MultiModal_Data.csv\")\n",
        "position_visual_data.columns"
      ],
      "metadata": {
        "colab": {
          "base_uri": "https://localhost:8080/"
        },
        "id": "1cIMCqhBFxsq",
        "outputId": "1038f18a-5ca3-480e-9553-ecef7871e2f0"
      },
      "execution_count": null,
      "outputs": [
        {
          "output_type": "execute_result",
          "data": {
            "text/plain": [
              "Index(['Unnamed: 0', '0', '1', '2', '3', '4', '5', '6', '7', '8',\n",
              "       ...\n",
              "       '505', '506', '507', '508', '509', '510', '511', 'Latitude',\n",
              "       'Longitude', 'beam_index_1'],\n",
              "      dtype='object', length=516)"
            ]
          },
          "metadata": {},
          "execution_count": 43
        }
      ]
    },
    {
      "cell_type": "markdown",
      "source": [
        "**3.2 Data pre-processing**"
      ],
      "metadata": {
        "id": "ItHIGbOVGNDy"
      }
    },
    {
      "cell_type": "code",
      "source": [
        "x = position_visual_data.drop(['beam_index_1'], axis=1)\n",
        "y = position_visual_data['beam_index_1']\n",
        "\n",
        "trainX, testX, trainY, testY = train_test_split(x, y, test_size = 0.3)"
      ],
      "metadata": {
        "id": "X2EH3TSDGPu6"
      },
      "execution_count": null,
      "outputs": []
    },
    {
      "cell_type": "code",
      "source": [
        "x"
      ],
      "metadata": {
        "colab": {
          "base_uri": "https://localhost:8080/",
          "height": 505
        },
        "id": "qJ0f53_RHDAf",
        "outputId": "5a86f1af-0dbe-4039-b3c3-6c78dd3b46d1"
      },
      "execution_count": null,
      "outputs": [
        {
          "output_type": "execute_result",
          "data": {
            "text/plain": [
              "     Unnamed: 0         0         1         2         3         4         5  \\\n",
              "0             0  0.097568  0.185196  0.039685  0.021913 -0.075682 -0.031300   \n",
              "1             1  0.103044  0.171544  0.027992  0.016922 -0.085244 -0.035022   \n",
              "2             2  0.092994  0.179153  0.036374  0.018443 -0.078778 -0.023751   \n",
              "3             3  0.098505  0.183200  0.028637  0.019791 -0.075257 -0.027035   \n",
              "4             4  0.097871  0.173932  0.029950  0.030430 -0.072821 -0.020585   \n",
              "..          ...       ...       ...       ...       ...       ...       ...   \n",
              "146         146  0.099440  0.186574  0.046539  0.031267 -0.062776 -0.021215   \n",
              "147         147  0.101963  0.192310  0.052974  0.027304 -0.051053 -0.002911   \n",
              "148         148  0.106565  0.185594  0.048344  0.032097 -0.049046 -0.012506   \n",
              "149         149  0.106001  0.189368  0.051806  0.027140 -0.038556 -0.005303   \n",
              "150         150  0.105852  0.175721  0.043607  0.032826 -0.059443 -0.020219   \n",
              "\n",
              "            6         7         8  ...       504       505       506  \\\n",
              "0    0.072241  0.007807  0.059465  ...  0.006259 -0.003416  0.007027   \n",
              "1    0.065993  0.019418  0.062952  ...  0.006969  0.000770  0.004407   \n",
              "2    0.071654  0.013634  0.068690  ...  0.006422 -0.001823  0.005287   \n",
              "3    0.067600  0.020424  0.074738  ...  0.007848 -0.002307  0.006747   \n",
              "4    0.073846  0.016274  0.056553  ...  0.010312 -0.001909  0.004955   \n",
              "..        ...       ...       ...  ...       ...       ...       ...   \n",
              "146  0.087185  0.010886  0.067551  ...  0.016726 -0.006799  0.011917   \n",
              "147  0.095174  0.002589  0.064985  ...  0.016616 -0.005289  0.008978   \n",
              "148  0.092513  0.013807  0.069127  ...  0.013699 -0.005944  0.012569   \n",
              "149  0.099965  0.013568  0.077554  ...  0.015014 -0.006469  0.009516   \n",
              "150  0.092536  0.017638  0.064493  ...  0.016776 -0.008701  0.009210   \n",
              "\n",
              "          507       508       509       510       511   Latitude   Longitude  \n",
              "0    0.031894  0.006568  0.001471 -0.005681  0.012368  33.420694 -111.928930  \n",
              "1    0.032718  0.008267  0.000358 -0.005593  0.013679  33.420639 -111.929003  \n",
              "2    0.032821  0.005026  0.001917 -0.007621  0.013050  33.420774 -111.929004  \n",
              "3    0.036579  0.003410  0.002257 -0.004730  0.011234  33.420561 -111.928935  \n",
              "4    0.035131  0.005847  0.002576 -0.005828  0.010130  33.420662 -111.929004  \n",
              "..        ...       ...       ...       ...       ...        ...         ...  \n",
              "146  0.030325  0.008155  0.008944 -0.009272  0.008993  33.420720 -111.928937  \n",
              "147  0.030242  0.011465  0.006569 -0.014174  0.003462  33.420703 -111.929005  \n",
              "148  0.027999  0.009184  0.009100 -0.013422  0.005543  33.420712 -111.929010  \n",
              "149  0.029009  0.007128  0.008404 -0.014105  0.003133  33.420720 -111.929001  \n",
              "150  0.029456  0.006233  0.004793 -0.010033  0.008542  33.420651 -111.929008  \n",
              "\n",
              "[151 rows x 515 columns]"
            ],
            "text/html": [
              "\n",
              "  <div id=\"df-60ba35be-578d-4398-9cd7-fa9c81e75c29\">\n",
              "    <div class=\"colab-df-container\">\n",
              "      <div>\n",
              "<style scoped>\n",
              "    .dataframe tbody tr th:only-of-type {\n",
              "        vertical-align: middle;\n",
              "    }\n",
              "\n",
              "    .dataframe tbody tr th {\n",
              "        vertical-align: top;\n",
              "    }\n",
              "\n",
              "    .dataframe thead th {\n",
              "        text-align: right;\n",
              "    }\n",
              "</style>\n",
              "<table border=\"1\" class=\"dataframe\">\n",
              "  <thead>\n",
              "    <tr style=\"text-align: right;\">\n",
              "      <th></th>\n",
              "      <th>Unnamed: 0</th>\n",
              "      <th>0</th>\n",
              "      <th>1</th>\n",
              "      <th>2</th>\n",
              "      <th>3</th>\n",
              "      <th>4</th>\n",
              "      <th>5</th>\n",
              "      <th>6</th>\n",
              "      <th>7</th>\n",
              "      <th>8</th>\n",
              "      <th>...</th>\n",
              "      <th>504</th>\n",
              "      <th>505</th>\n",
              "      <th>506</th>\n",
              "      <th>507</th>\n",
              "      <th>508</th>\n",
              "      <th>509</th>\n",
              "      <th>510</th>\n",
              "      <th>511</th>\n",
              "      <th>Latitude</th>\n",
              "      <th>Longitude</th>\n",
              "    </tr>\n",
              "  </thead>\n",
              "  <tbody>\n",
              "    <tr>\n",
              "      <th>0</th>\n",
              "      <td>0</td>\n",
              "      <td>0.097568</td>\n",
              "      <td>0.185196</td>\n",
              "      <td>0.039685</td>\n",
              "      <td>0.021913</td>\n",
              "      <td>-0.075682</td>\n",
              "      <td>-0.031300</td>\n",
              "      <td>0.072241</td>\n",
              "      <td>0.007807</td>\n",
              "      <td>0.059465</td>\n",
              "      <td>...</td>\n",
              "      <td>0.006259</td>\n",
              "      <td>-0.003416</td>\n",
              "      <td>0.007027</td>\n",
              "      <td>0.031894</td>\n",
              "      <td>0.006568</td>\n",
              "      <td>0.001471</td>\n",
              "      <td>-0.005681</td>\n",
              "      <td>0.012368</td>\n",
              "      <td>33.420694</td>\n",
              "      <td>-111.928930</td>\n",
              "    </tr>\n",
              "    <tr>\n",
              "      <th>1</th>\n",
              "      <td>1</td>\n",
              "      <td>0.103044</td>\n",
              "      <td>0.171544</td>\n",
              "      <td>0.027992</td>\n",
              "      <td>0.016922</td>\n",
              "      <td>-0.085244</td>\n",
              "      <td>-0.035022</td>\n",
              "      <td>0.065993</td>\n",
              "      <td>0.019418</td>\n",
              "      <td>0.062952</td>\n",
              "      <td>...</td>\n",
              "      <td>0.006969</td>\n",
              "      <td>0.000770</td>\n",
              "      <td>0.004407</td>\n",
              "      <td>0.032718</td>\n",
              "      <td>0.008267</td>\n",
              "      <td>0.000358</td>\n",
              "      <td>-0.005593</td>\n",
              "      <td>0.013679</td>\n",
              "      <td>33.420639</td>\n",
              "      <td>-111.929003</td>\n",
              "    </tr>\n",
              "    <tr>\n",
              "      <th>2</th>\n",
              "      <td>2</td>\n",
              "      <td>0.092994</td>\n",
              "      <td>0.179153</td>\n",
              "      <td>0.036374</td>\n",
              "      <td>0.018443</td>\n",
              "      <td>-0.078778</td>\n",
              "      <td>-0.023751</td>\n",
              "      <td>0.071654</td>\n",
              "      <td>0.013634</td>\n",
              "      <td>0.068690</td>\n",
              "      <td>...</td>\n",
              "      <td>0.006422</td>\n",
              "      <td>-0.001823</td>\n",
              "      <td>0.005287</td>\n",
              "      <td>0.032821</td>\n",
              "      <td>0.005026</td>\n",
              "      <td>0.001917</td>\n",
              "      <td>-0.007621</td>\n",
              "      <td>0.013050</td>\n",
              "      <td>33.420774</td>\n",
              "      <td>-111.929004</td>\n",
              "    </tr>\n",
              "    <tr>\n",
              "      <th>3</th>\n",
              "      <td>3</td>\n",
              "      <td>0.098505</td>\n",
              "      <td>0.183200</td>\n",
              "      <td>0.028637</td>\n",
              "      <td>0.019791</td>\n",
              "      <td>-0.075257</td>\n",
              "      <td>-0.027035</td>\n",
              "      <td>0.067600</td>\n",
              "      <td>0.020424</td>\n",
              "      <td>0.074738</td>\n",
              "      <td>...</td>\n",
              "      <td>0.007848</td>\n",
              "      <td>-0.002307</td>\n",
              "      <td>0.006747</td>\n",
              "      <td>0.036579</td>\n",
              "      <td>0.003410</td>\n",
              "      <td>0.002257</td>\n",
              "      <td>-0.004730</td>\n",
              "      <td>0.011234</td>\n",
              "      <td>33.420561</td>\n",
              "      <td>-111.928935</td>\n",
              "    </tr>\n",
              "    <tr>\n",
              "      <th>4</th>\n",
              "      <td>4</td>\n",
              "      <td>0.097871</td>\n",
              "      <td>0.173932</td>\n",
              "      <td>0.029950</td>\n",
              "      <td>0.030430</td>\n",
              "      <td>-0.072821</td>\n",
              "      <td>-0.020585</td>\n",
              "      <td>0.073846</td>\n",
              "      <td>0.016274</td>\n",
              "      <td>0.056553</td>\n",
              "      <td>...</td>\n",
              "      <td>0.010312</td>\n",
              "      <td>-0.001909</td>\n",
              "      <td>0.004955</td>\n",
              "      <td>0.035131</td>\n",
              "      <td>0.005847</td>\n",
              "      <td>0.002576</td>\n",
              "      <td>-0.005828</td>\n",
              "      <td>0.010130</td>\n",
              "      <td>33.420662</td>\n",
              "      <td>-111.929004</td>\n",
              "    </tr>\n",
              "    <tr>\n",
              "      <th>...</th>\n",
              "      <td>...</td>\n",
              "      <td>...</td>\n",
              "      <td>...</td>\n",
              "      <td>...</td>\n",
              "      <td>...</td>\n",
              "      <td>...</td>\n",
              "      <td>...</td>\n",
              "      <td>...</td>\n",
              "      <td>...</td>\n",
              "      <td>...</td>\n",
              "      <td>...</td>\n",
              "      <td>...</td>\n",
              "      <td>...</td>\n",
              "      <td>...</td>\n",
              "      <td>...</td>\n",
              "      <td>...</td>\n",
              "      <td>...</td>\n",
              "      <td>...</td>\n",
              "      <td>...</td>\n",
              "      <td>...</td>\n",
              "      <td>...</td>\n",
              "    </tr>\n",
              "    <tr>\n",
              "      <th>146</th>\n",
              "      <td>146</td>\n",
              "      <td>0.099440</td>\n",
              "      <td>0.186574</td>\n",
              "      <td>0.046539</td>\n",
              "      <td>0.031267</td>\n",
              "      <td>-0.062776</td>\n",
              "      <td>-0.021215</td>\n",
              "      <td>0.087185</td>\n",
              "      <td>0.010886</td>\n",
              "      <td>0.067551</td>\n",
              "      <td>...</td>\n",
              "      <td>0.016726</td>\n",
              "      <td>-0.006799</td>\n",
              "      <td>0.011917</td>\n",
              "      <td>0.030325</td>\n",
              "      <td>0.008155</td>\n",
              "      <td>0.008944</td>\n",
              "      <td>-0.009272</td>\n",
              "      <td>0.008993</td>\n",
              "      <td>33.420720</td>\n",
              "      <td>-111.928937</td>\n",
              "    </tr>\n",
              "    <tr>\n",
              "      <th>147</th>\n",
              "      <td>147</td>\n",
              "      <td>0.101963</td>\n",
              "      <td>0.192310</td>\n",
              "      <td>0.052974</td>\n",
              "      <td>0.027304</td>\n",
              "      <td>-0.051053</td>\n",
              "      <td>-0.002911</td>\n",
              "      <td>0.095174</td>\n",
              "      <td>0.002589</td>\n",
              "      <td>0.064985</td>\n",
              "      <td>...</td>\n",
              "      <td>0.016616</td>\n",
              "      <td>-0.005289</td>\n",
              "      <td>0.008978</td>\n",
              "      <td>0.030242</td>\n",
              "      <td>0.011465</td>\n",
              "      <td>0.006569</td>\n",
              "      <td>-0.014174</td>\n",
              "      <td>0.003462</td>\n",
              "      <td>33.420703</td>\n",
              "      <td>-111.929005</td>\n",
              "    </tr>\n",
              "    <tr>\n",
              "      <th>148</th>\n",
              "      <td>148</td>\n",
              "      <td>0.106565</td>\n",
              "      <td>0.185594</td>\n",
              "      <td>0.048344</td>\n",
              "      <td>0.032097</td>\n",
              "      <td>-0.049046</td>\n",
              "      <td>-0.012506</td>\n",
              "      <td>0.092513</td>\n",
              "      <td>0.013807</td>\n",
              "      <td>0.069127</td>\n",
              "      <td>...</td>\n",
              "      <td>0.013699</td>\n",
              "      <td>-0.005944</td>\n",
              "      <td>0.012569</td>\n",
              "      <td>0.027999</td>\n",
              "      <td>0.009184</td>\n",
              "      <td>0.009100</td>\n",
              "      <td>-0.013422</td>\n",
              "      <td>0.005543</td>\n",
              "      <td>33.420712</td>\n",
              "      <td>-111.929010</td>\n",
              "    </tr>\n",
              "    <tr>\n",
              "      <th>149</th>\n",
              "      <td>149</td>\n",
              "      <td>0.106001</td>\n",
              "      <td>0.189368</td>\n",
              "      <td>0.051806</td>\n",
              "      <td>0.027140</td>\n",
              "      <td>-0.038556</td>\n",
              "      <td>-0.005303</td>\n",
              "      <td>0.099965</td>\n",
              "      <td>0.013568</td>\n",
              "      <td>0.077554</td>\n",
              "      <td>...</td>\n",
              "      <td>0.015014</td>\n",
              "      <td>-0.006469</td>\n",
              "      <td>0.009516</td>\n",
              "      <td>0.029009</td>\n",
              "      <td>0.007128</td>\n",
              "      <td>0.008404</td>\n",
              "      <td>-0.014105</td>\n",
              "      <td>0.003133</td>\n",
              "      <td>33.420720</td>\n",
              "      <td>-111.929001</td>\n",
              "    </tr>\n",
              "    <tr>\n",
              "      <th>150</th>\n",
              "      <td>150</td>\n",
              "      <td>0.105852</td>\n",
              "      <td>0.175721</td>\n",
              "      <td>0.043607</td>\n",
              "      <td>0.032826</td>\n",
              "      <td>-0.059443</td>\n",
              "      <td>-0.020219</td>\n",
              "      <td>0.092536</td>\n",
              "      <td>0.017638</td>\n",
              "      <td>0.064493</td>\n",
              "      <td>...</td>\n",
              "      <td>0.016776</td>\n",
              "      <td>-0.008701</td>\n",
              "      <td>0.009210</td>\n",
              "      <td>0.029456</td>\n",
              "      <td>0.006233</td>\n",
              "      <td>0.004793</td>\n",
              "      <td>-0.010033</td>\n",
              "      <td>0.008542</td>\n",
              "      <td>33.420651</td>\n",
              "      <td>-111.929008</td>\n",
              "    </tr>\n",
              "  </tbody>\n",
              "</table>\n",
              "<p>151 rows × 515 columns</p>\n",
              "</div>\n",
              "      <button class=\"colab-df-convert\" onclick=\"convertToInteractive('df-60ba35be-578d-4398-9cd7-fa9c81e75c29')\"\n",
              "              title=\"Convert this dataframe to an interactive table.\"\n",
              "              style=\"display:none;\">\n",
              "        \n",
              "  <svg xmlns=\"http://www.w3.org/2000/svg\" height=\"24px\"viewBox=\"0 0 24 24\"\n",
              "       width=\"24px\">\n",
              "    <path d=\"M0 0h24v24H0V0z\" fill=\"none\"/>\n",
              "    <path d=\"M18.56 5.44l.94 2.06.94-2.06 2.06-.94-2.06-.94-.94-2.06-.94 2.06-2.06.94zm-11 1L8.5 8.5l.94-2.06 2.06-.94-2.06-.94L8.5 2.5l-.94 2.06-2.06.94zm10 10l.94 2.06.94-2.06 2.06-.94-2.06-.94-.94-2.06-.94 2.06-2.06.94z\"/><path d=\"M17.41 7.96l-1.37-1.37c-.4-.4-.92-.59-1.43-.59-.52 0-1.04.2-1.43.59L10.3 9.45l-7.72 7.72c-.78.78-.78 2.05 0 2.83L4 21.41c.39.39.9.59 1.41.59.51 0 1.02-.2 1.41-.59l7.78-7.78 2.81-2.81c.8-.78.8-2.07 0-2.86zM5.41 20L4 18.59l7.72-7.72 1.47 1.35L5.41 20z\"/>\n",
              "  </svg>\n",
              "      </button>\n",
              "      \n",
              "  <style>\n",
              "    .colab-df-container {\n",
              "      display:flex;\n",
              "      flex-wrap:wrap;\n",
              "      gap: 12px;\n",
              "    }\n",
              "\n",
              "    .colab-df-convert {\n",
              "      background-color: #E8F0FE;\n",
              "      border: none;\n",
              "      border-radius: 50%;\n",
              "      cursor: pointer;\n",
              "      display: none;\n",
              "      fill: #1967D2;\n",
              "      height: 32px;\n",
              "      padding: 0 0 0 0;\n",
              "      width: 32px;\n",
              "    }\n",
              "\n",
              "    .colab-df-convert:hover {\n",
              "      background-color: #E2EBFA;\n",
              "      box-shadow: 0px 1px 2px rgba(60, 64, 67, 0.3), 0px 1px 3px 1px rgba(60, 64, 67, 0.15);\n",
              "      fill: #174EA6;\n",
              "    }\n",
              "\n",
              "    [theme=dark] .colab-df-convert {\n",
              "      background-color: #3B4455;\n",
              "      fill: #D2E3FC;\n",
              "    }\n",
              "\n",
              "    [theme=dark] .colab-df-convert:hover {\n",
              "      background-color: #434B5C;\n",
              "      box-shadow: 0px 1px 3px 1px rgba(0, 0, 0, 0.15);\n",
              "      filter: drop-shadow(0px 1px 2px rgba(0, 0, 0, 0.3));\n",
              "      fill: #FFFFFF;\n",
              "    }\n",
              "  </style>\n",
              "\n",
              "      <script>\n",
              "        const buttonEl =\n",
              "          document.querySelector('#df-60ba35be-578d-4398-9cd7-fa9c81e75c29 button.colab-df-convert');\n",
              "        buttonEl.style.display =\n",
              "          google.colab.kernel.accessAllowed ? 'block' : 'none';\n",
              "\n",
              "        async function convertToInteractive(key) {\n",
              "          const element = document.querySelector('#df-60ba35be-578d-4398-9cd7-fa9c81e75c29');\n",
              "          const dataTable =\n",
              "            await google.colab.kernel.invokeFunction('convertToInteractive',\n",
              "                                                     [key], {});\n",
              "          if (!dataTable) return;\n",
              "\n",
              "          const docLinkHtml = 'Like what you see? Visit the ' +\n",
              "            '<a target=\"_blank\" href=https://colab.research.google.com/notebooks/data_table.ipynb>data table notebook</a>'\n",
              "            + ' to learn more about interactive tables.';\n",
              "          element.innerHTML = '';\n",
              "          dataTable['output_type'] = 'display_data';\n",
              "          await google.colab.output.renderOutput(dataTable, element);\n",
              "          const docLink = document.createElement('div');\n",
              "          docLink.innerHTML = docLinkHtml;\n",
              "          element.appendChild(docLink);\n",
              "        }\n",
              "      </script>\n",
              "    </div>\n",
              "  </div>\n",
              "  "
            ]
          },
          "metadata": {},
          "execution_count": 45
        }
      ]
    },
    {
      "cell_type": "code",
      "source": [
        "y"
      ],
      "metadata": {
        "colab": {
          "base_uri": "https://localhost:8080/"
        },
        "id": "-xZgKPGLIvLY",
        "outputId": "f34c5273-bce9-4591-dc9a-9617bd01449d"
      },
      "execution_count": null,
      "outputs": [
        {
          "output_type": "execute_result",
          "data": {
            "text/plain": [
              "0      37\n",
              "1      34\n",
              "2       4\n",
              "3      51\n",
              "4      29\n",
              "       ..\n",
              "146    23\n",
              "147    17\n",
              "148    17\n",
              "149    21\n",
              "150    33\n",
              "Name: beam_index_1, Length: 151, dtype: int64"
            ]
          },
          "metadata": {},
          "execution_count": 46
        }
      ]
    },
    {
      "cell_type": "code",
      "source": [
        "sc=StandardScaler()\n",
        "scaler = sc.fit(trainX)\n",
        "trainX_scaled = scaler.transform(trainX)\n",
        "testX_scaled = scaler.transform(testX)"
      ],
      "metadata": {
        "id": "J3OsIJ7hHLJg"
      },
      "execution_count": null,
      "outputs": []
    },
    {
      "cell_type": "code",
      "source": [
        "testX_scaled"
      ],
      "metadata": {
        "id": "nSCp0P_RPftD",
        "colab": {
          "base_uri": "https://localhost:8080/"
        },
        "outputId": "99e3d474-8cb3-4208-fd74-751a1c6efc15"
      },
      "execution_count": null,
      "outputs": [
        {
          "output_type": "execute_result",
          "data": {
            "text/plain": [
              "array([[-1.26435185,  2.01138765, -0.18445664, ...,  0.60584157,\n",
              "         2.23526121,  0.92949214],\n",
              "       [-0.390066  , -0.86656237, -0.64866613, ..., -0.75351976,\n",
              "         1.1405393 ,  0.79175887],\n",
              "       [ 0.01345055,  0.06591848,  0.47456447, ..., -0.85839154,\n",
              "        -1.12337336, -0.84417514],\n",
              "       ...,\n",
              "       [ 1.33608812, -0.93296899, -0.41861479, ..., -1.17523275,\n",
              "         0.33209114, -1.0015846 ],\n",
              "       [ 0.95498916,  0.19235343,  1.25692173, ...,  0.95499343,\n",
              "         0.07288797,  0.99414245],\n",
              "       [-1.42127495,  0.86913673,  1.50000537, ..., -0.1243512 ,\n",
              "        -0.89500882, -0.86104044]])"
            ]
          },
          "metadata": {},
          "execution_count": 42
        }
      ]
    },
    {
      "cell_type": "markdown",
      "source": [
        "4.3 MLPClassifier\n"
      ],
      "metadata": {
        "id": "dYHr_iI2I1Ik"
      }
    },
    {
      "cell_type": "code",
      "source": [
        "mlp_clf = MLPClassifier(hidden_layer_sizes=(256,256,50),\n",
        "                        max_iter = 10000,activation = 'relu',\n",
        "                        solver = 'adam', alpha = 0.0001, learning_rate = 'adaptive' )\n",
        "\n",
        "mlp_clf.fit(trainX, trainY)\n",
        "\n"
      ],
      "metadata": {
        "id": "QqGoHnRUIZxF",
        "colab": {
          "base_uri": "https://localhost:8080/"
        },
        "outputId": "2aa87ebf-a018-456e-9ead-d9524ae6cf81"
      },
      "execution_count": null,
      "outputs": [
        {
          "output_type": "execute_result",
          "data": {
            "text/plain": [
              "MLPClassifier(hidden_layer_sizes=(256, 256, 50), learning_rate='adaptive',\n",
              "              max_iter=10000)"
            ]
          },
          "metadata": {},
          "execution_count": 13
        }
      ]
    },
    {
      "cell_type": "code",
      "source": [
        "y_pred = mlp_clf.predict(testX)\n",
        "print('Accuracy: {:.2f}'.format(accuracy_score(testY, y_pred)))"
      ],
      "metadata": {
        "colab": {
          "base_uri": "https://localhost:8080/"
        },
        "id": "oIN6-swciVg5",
        "outputId": "6b2a2f74-8091-4331-c1c6-6c63f1fbe6bc"
      },
      "execution_count": null,
      "outputs": [
        {
          "output_type": "stream",
          "name": "stdout",
          "text": [
            "Accuracy: 0.05\n"
          ]
        }
      ]
    },
    {
      "cell_type": "markdown",
      "source": [
        "**Model Evaluation**"
      ],
      "metadata": {
        "id": "7iTIhlTDJoVa"
      }
    },
    {
      "cell_type": "code",
      "source": [
        "plt.plot(mlp_clf.loss_curve_)\n",
        "plt.title(\"Loss Curve\", fontsize=14)\n",
        "plt.xlabel('Iterations')\n",
        "plt.ylabel('Cost')\n",
        "plt.show()"
      ],
      "metadata": {
        "colab": {
          "base_uri": "https://localhost:8080/",
          "height": 296
        },
        "id": "jKfHE2vbJsQY",
        "outputId": "c0a675a7-1508-4882-e28f-0c894a15283d"
      },
      "execution_count": null,
      "outputs": [
        {
          "output_type": "display_data",
          "data": {
            "text/plain": [
              "<Figure size 432x288 with 1 Axes>"
            ],
            "image/png": "[encoded data removed]"
          },
          "metadata": {
            "needs_background": "light"
          }
        }
      ]
    },
    {
      "cell_type": "code",
      "source": [
        "param_grid = {\n",
        "    'hidden_layer_sizes': [(150,100,50), (120,80,40), (100,50,30)],\n",
        "    'max_iter': [50, 100, 150],\n",
        "    'activation': ['tanh', 'relu'],\n",
        "    'solver': ['sgd', 'adam'],\n",
        "    'alpha': [0.0001, 0.05],\n",
        "    'learning_rate': ['constant','adaptive'],\n",
        "}"
      ],
      "metadata": {
        "id": "9o7IoV3eJyrT"
      },
      "execution_count": null,
      "outputs": []
    },
    {
      "cell_type": "code",
      "source": [
        "import pandas as pd\n",
        "\n",
        "import matplotlib.pyplot as plt\n",
        "\n",
        "from sklearn.model_selection import train_test_split\n",
        "from sklearn.preprocessing import StandardScaler\n",
        "\n",
        "\n",
        "from sklearn.neural_network import MLPClassifier\n",
        "\n",
        "from sklearn.metrics import accuracy_score\n",
        "from sklearn.metrics import plot_confusion_matrix\n",
        "from sklearn.metrics import classification_report\n",
        "\n",
        "from sklearn.model_selection import GridSearchCV"
      ],
      "metadata": {
        "id": "Vk0HE3wcjDMo"
      },
      "execution_count": null,
      "outputs": []
    },
    {
      "cell_type": "code",
      "source": [
        "predictions =mlp.predict(X_test)\n",
        "from sklearn.metrics import accuracy_score\n",
        "accuracy_score(testY,predictions)"
      ],
      "metadata": {
        "colab": {
          "base_uri": "https://localhost:8080/"
        },
        "id": "CiI7S_ZNrKXn",
        "outputId": "552871ba-1a23-45d8-b440-5a4bcba0afc0"
      },
      "execution_count": null,
      "outputs": [
        {
          "output_type": "execute_result",
          "data": {
            "text/plain": [
              "0.5118434603501545"
            ]
          },
          "metadata": {},
          "execution_count": 8
        }
      ]
    },
    {
      "cell_type": "code",
      "source": [
        "from mlxtend.plotting import plot_learning_curves\n",
        "plot_learning_curves(X_train, trainY, X_test, testY, mlp)\n",
        "plt.show()"
      ],
      "metadata": {
        "id": "-m9Tq8PfrL2q",
        "colab": {
          "base_uri": "https://localhost:8080/",
          "height": 392
        },
        "outputId": "a6deb1fe-12b3-47bf-cecc-2731ae276817"
      },
      "execution_count": null,
      "outputs": [
        {
          "output_type": "display_data",
          "data": {
            "text/plain": [
              "<Figure size 432x288 with 1 Axes>"
            ],
            "image/png": "[encoded data removed]"
          },
          "metadata": {}
        }
      ]
    },
    {
      "cell_type": "code",
      "source": [],
      "metadata": {
        "id": "J979XzXsjZYU"
      },
      "execution_count": null,
      "outputs": []
    }
  ]
}